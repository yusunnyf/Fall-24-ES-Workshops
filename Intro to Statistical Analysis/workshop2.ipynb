{
 "cells": [
  {
   "cell_type": "markdown",
   "metadata": {},
   "source": [
    "# Intro to Statistical Analysis with Python\n",
    "\n",
    "**Date**: November 7th, 2024\n",
    "\n",
    "**Author**: Sunny Fang, yf2610\n",
    "\n",
    "_Created as part of the Barnard College Computing Fellows Program, Fall 2024_\n",
    "\n",
    "\n",
    "By the end of this workshop, students should be able to...\n",
    "1. Write well-documented, interpretable code for statistical testing,\n",
    "2. Interpret and explain statistical test results to an audience,\n",
    "3. Feel comfortable selecting and implementing the appropriate statistical test for their project,"
   ]
  },
  {
   "cell_type": "markdown",
   "metadata": {},
   "source": []
  },
  {
   "cell_type": "markdown",
   "metadata": {},
   "source": [
    "# 0. Setup"
   ]
  },
  {
   "cell_type": "code",
   "execution_count": null,
   "metadata": {},
   "outputs": [],
   "source": [
    "%pip install pandas\n",
    "%pip install seaborn\n",
    "%pip install --upgrade matplotlib\n",
    "%pip install scipy"
   ]
  },
  {
   "cell_type": "code",
   "execution_count": 2,
   "metadata": {},
   "outputs": [],
   "source": [
    "# to process data\n",
    "import pandas as pd\n",
    "\n",
    "# for numerical processing\n",
    "import numpy as np\n",
    "\n",
    "# to plot data\n",
    "import matplotlib as mpl\n",
    "import matplotlib.pyplot as plt\n",
    "import seaborn as sns\n",
    "\n",
    "# to carry out statistical testing\n",
    "from scipy import stats\n",
    "\n",
    "sns.set_style('darkgrid')\n",
    "\n",
    "# for datetime processing\n",
    "import datetime as dt"
   ]
  },
  {
   "cell_type": "markdown",
   "metadata": {},
   "source": [
    "# 1. Data Preprocessing"
   ]
  },
  {
   "cell_type": "markdown",
   "metadata": {},
   "source": [
    "Today, we are using an air pollution dataset from [Kaggle](https://www.kaggle.com/datasets/sogun3/uspollution/data). \n",
    "\n",
    "You can read the file with the following link: "
   ]
  },
  {
   "cell_type": "code",
   "execution_count": null,
   "metadata": {},
   "outputs": [],
   "source": [
    "# TODO: replace the filename\n",
    "# read the dataset using the link provided above\n",
    "df = pd.read_csv(\"___\")\n",
    "\n",
    "# remove max column restriction\n",
    "pd.set_option(\"display.max_columns\", None)\n",
    "\n",
    "# display the first 5 rows\n",
    "df.head(5)"
   ]
  },
  {
   "cell_type": "code",
   "execution_count": null,
   "metadata": {},
   "outputs": [],
   "source": [
    "df_cols = df.columns.to_list()\n",
    "print(df_cols)"
   ]
  },
  {
   "cell_type": "code",
   "execution_count": null,
   "metadata": {},
   "outputs": [],
   "source": [
    "# Carry out basic data preprocessing techniques\n",
    "# step 1: drop NaNs\n",
    "df = df.dropna()\n",
    "\n",
    "# step 2: drop columns we don't need\n",
    "# TODO: keep everything *except for* the first 5 columns\n",
    "# i.e., we don't need: Unnamed: 0, State Code,County Code, Site Num, and Address\n",
    "# there are several right answers to this!\n",
    "df = ___\n",
    "df.head()\n"
   ]
  },
  {
   "cell_type": "code",
   "execution_count": 6,
   "metadata": {},
   "outputs": [],
   "source": [
    "# an important addition: as a good practice, when dealing with datetime objects in a dataframe, \n",
    "df['Date Local'] = pd.to_datetime(df['Date Local'])"
   ]
  },
  {
   "cell_type": "markdown",
   "metadata": {},
   "source": [
    "# 2. T-test"
   ]
  },
  {
   "cell_type": "markdown",
   "metadata": {},
   "source": [
    "### 2.1 One-sample T-test\n",
    "\n",
    "On October 1, 2015, the Environmental Protection Agency strengthend the National Ambient Air Quality Standards: \"areas will meet the standards if the 4th highest daily maximum 8-hour ozone concentration per year, averaged over three years, is **equal to or less than 70 ppb** (or 0.07 ppm) ([source](https://19january2017snapshot.epa.gov/ozone-pollution/2015-revision-2008-ozone-national-ambient-air-quality-standards-naaqs-supporting_.html)).\n",
    "\n",
    "Here, we want to test whether or not the state of Califronia (CA) meets the standard. For the purpose of this demonstration, we are going to loosen the \"4th highest daily maximum 8-hour ozone concentration per year\" assumption. Instead, we are going to see if the **average of the max O3 value across three years** meet the standards.\n",
    "\n",
    "**Resources**:\n",
    "- [How to filter by year](https://stackoverflow.com/questions/46878156/pandas-filter-dataframe-rows-with-a-specific-year)\n"
   ]
  },
  {
   "cell_type": "markdown",
   "metadata": {},
   "source": [
    "#### step 1: **define hypotheses**"
   ]
  },
  {
   "cell_type": "markdown",
   "metadata": {},
   "source": [
    "Before we jump into data analysis, take a moment and formulate our null and alternative hypotheses:\n",
    "\n",
    "- Null hypothesis ($H_0$): The mean value of the average daily ozone concentration in CA is equal to 0.07. \n",
    "\n",
    "- Alternative Hypothesis ($H_A$): The mean value of the average daily ozone concentration in CA is larger than 0.07. "
   ]
  },
  {
   "cell_type": "markdown",
   "metadata": {},
   "source": [
    "#### step 2: **define $\\alpha$ (significance level)**\n",
    "\n",
    "Typically, $\\alpha$ is set to be 0.05."
   ]
  },
  {
   "cell_type": "markdown",
   "metadata": {},
   "source": [
    "#### step 3: **data slicing**"
   ]
  },
  {
   "cell_type": "code",
   "execution_count": null,
   "metadata": {},
   "outputs": [],
   "source": [
    "# TODO: let's subset the data together!\n",
    "# step 1: subset the data to get our desired output\n",
    "# note: here, we subset for \"O3 1st Max Value\", \n",
    "# but we can also use \"O3 Mean\" depending on our research question\n",
    "# 1a: subset the dataset, keeping California only, name it 'ca'\n",
    "ca = df[df['State'] == '__']\n",
    "\n",
    "# 1b: subset 'ca' to keep data where year is after 2011 (inclusive)\n",
    "ca_2011 = ca[ca['Date Local'].dt.year >= ___]\n",
    "\n",
    "# 1c: subset 'ca_2011' to keep data where year is before 2013 (inclusive)\n",
    "ca_2011_2013 = ca_2011[ca_2011['Date Local'].dt.year <= ___]\n",
    "\n",
    "# 1d: last but not least, we can just keep the columns we want\n",
    "ca_2011_2013 = ca_2011_2013[['Date Local', 'O3 1st Max Value']]\n",
    "\n",
    "# alternatively, we can write all of this in one line!\n",
    "# ca_2011_2013 = df[(df['State'] == 'California') & ((df['Date Local'].dt.year >= 2011) & (df['Date Local'].dt.year <= 2013))][['Date Local','O3 1st Max Value']]\n",
    "\n",
    "# optional but highly recommended: rename columns for easier access\n",
    "ca_2011_2013 = ca_2011_2013.rename(columns={\"Date Local\": \"date\", \"O3 1st Max Value\": \"o3\"})\n",
    "\n",
    "# always a good idea to check the data\n",
    "display(ca_2011_2013.head())\n",
    "\n",
    "# save file\n",
    "ca_2011_2013.to_csv(\"../data/ca_2011_2013.csv\")"
   ]
  },
  {
   "cell_type": "markdown",
   "metadata": {},
   "source": [
    "#### step 4: **check assumptions**\n",
    "\n",
    "Usually in t-tests, there are several assumptions that should be followed:\n",
    "- Independence of samples: samples should be randomly selected\n",
    "- Identically Distributed: samples should come from the same distribution\n",
    "- Normality (or sample size >30): samples should be normally distributed (Q-Q plots)\n",
    "- Equal variances: samples should have equal variances (box plots)\n",
    "\n",
    "In our example, we are conducting a one-sample t-test, so only the first assumption applies. However, due to the nature of our data being collected over time, we are going to loosen the assumption that time has an effect on ground Ozone levels.\n",
    "\n",
    "Resources:\n",
    "- [Tutorial on t-tests](https://www.datacamp.com/tutorial/an-introduction-to-python-t-tests)"
   ]
  },
  {
   "cell_type": "markdown",
   "metadata": {},
   "source": [
    "#### optional step: **data visualization**\n",
    "\n",
    "As seen earlier in the workshop, visualizations can be powerful! Here, we demonstrate some ways we can create visualizations for this question. You can find a section in the end of this note book for skeleton code used for plotting."
   ]
  },
  {
   "cell_type": "code",
   "execution_count": null,
   "metadata": {},
   "outputs": [],
   "source": [
    "# TODO: live coding!\n",
    "# for our question, we can plot... \n",
    "# (1) histogram to see the distribution - directly related to hypothesis testing\n",
    "# (2) scatterplot to see dates with O3 values that exceed the standard\n",
    "\n",
    "# first, declare the figure\n",
    "fig, ax = plt.subplots(2, 1, figsize=(16, 8), dpi=400)\n",
    "plt.tight_layout(pad=4.0)\n",
    "\n",
    "# next, plot with Seaborn\n",
    "# want to see distribution of o3\n",
    "sns.____(x=\"__\", \n",
    "             data=ca_2011_2013, \n",
    "             label = \"O3 1st Max Value\",\n",
    "             ax=ax[0])\n",
    "\n",
    "# want to see exceedance across date\n",
    "sns.___(x=\"date\", \n",
    "                y=\"__\", \n",
    "                data=ca_2011_2013, \n",
    "                label=\"O3 1st Max Value\",\n",
    "                ax=ax[1])\n",
    "\n",
    "sns.___(x=\"date\", \n",
    "                y=\"o3\", \n",
    "                data=ca_2011_2013[ca_2011_2013['o3']>0.07], \n",
    "                label=\"Above threshold\", \n",
    "                color = 'r',\n",
    "                ax=ax[1])\n",
    "\n",
    "# don't forget to set labels and titles\n",
    "ax[0].set_xlabel(\"Ozone 1st max value\")\n",
    "ax[0].set_ylabel(\"Frequency count\")\n",
    "ax[0].set_title(\"Distribution of Ozone in California, 2011-2013\", \n",
    "                fontsize = 16)\n",
    "\n",
    "ax[1].set_xlabel(\"Date\")\n",
    "ax[1].set_ylabel(\"Ozone 1st max value\")\n",
    "ax[1].set_title(\"Ozone Levels in California (2011-2013): Daily Observations with Exceedances Highlighted\", \n",
    "                fontsize = 16)\n",
    "\n",
    "# additional labels\n",
    "ax[0].axvline(x=0.07, linewidth=3, color='r', label = \"threshold\")\n",
    "ax[0].axvline(x=ca_2011_2013['o3'].mean(), linewidth=3, color='b', label = \"mean\")\n",
    "ax[0].legend(loc=0, fontsize=14)\n",
    "\n",
    "ax[1].axhline(y=0.07, linewidth=3, color='r', linestyle='--')\n",
    "ax[1].legend(loc=0, fontsize=14)\n",
    "\n",
    "# optional: add caption\n",
    "# caption = \"your caption here\"\n",
    "# fig.text(x, y, caption, ha='center')\n",
    "\n",
    "# save figure\n",
    "plt.savefig(\"figures/ca_o3_eda.png\")\n",
    "# if using Google colab:\n",
    "# files.download (\"filename.png\")"
   ]
  },
  {
   "cell_type": "markdown",
   "metadata": {},
   "source": [
    "#### step 5: **statistical testing**"
   ]
  },
  {
   "cell_type": "code",
   "execution_count": null,
   "metadata": {},
   "outputs": [],
   "source": [
    "# import 1 sample t-test from scipy\n",
    "from scipy.stats import t\n",
    "from scipy.stats import ttest_1samp\n",
    "\n",
    "# peform one-tailed one-sample t-test\n",
    "x = ca_2011_2013['o3']\n",
    "t_stat, p_value = ttest_1samp(a = x, \n",
    "                              popmean = 0.070,\n",
    "                              alternative=\"greater\")\n",
    "print(f\"One-sample t-Test results: \\nt-statistic = {t_stat:0.3f} \\np-value = {p_value}\")"
   ]
  },
  {
   "cell_type": "code",
   "execution_count": null,
   "metadata": {},
   "outputs": [],
   "source": [
    "x = ca_2011_2013['o3']\n",
    "dof = len(x) - 1\n",
    "x_axis = np.linspace(-5, 5, 100)\n",
    "y = t.pdf(x_axis, dof)\n",
    "\n",
    "alpha = 0.05\n",
    "\n",
    "# Calculate the critical t-value for the right-tailed test\n",
    "critical_value = t.ppf(1 - alpha, dof)\n",
    "\n",
    "# Create the plot\n",
    "fig, ax = plt.subplots(1, 1, figsize=(8, 4), dpi=200)\n",
    "plt.plot(x_axis, y, label='t-distribution', color='olive')\n",
    "\n",
    "# Shade the rejection region\n",
    "x_fill = np.linspace(critical_value, 5, 100)\n",
    "y_fill = t.pdf(x_fill, dof)\n",
    "plt.fill_between(x_fill, y_fill, color='khaki', alpha=0.5, label='Rejection Region')\n",
    "import random\n",
    "x = [random.uniform(0.07, 0.071) for i in range(3)]\n",
    "test_statistic, p_value = ttest_1samp(x, 0.06, alternative=\"greater\")\n",
    "print(test_statistic)\n",
    "\n",
    "# Add a vertical line at the critical value\n",
    "plt.axvline(x=critical_value, color='darkgoldenrod', linestyle='--', label=f'Critical Value (t={critical_value:.2f})')\n",
    "\n",
    "# Add labels and title\n",
    "plt.title('t-Distribution with Rejection Region for Right-Tailed Test')\n",
    "plt.xlabel('t-value')\n",
    "plt.ylabel('Probability Density')\n",
    "plt.legend()\n",
    "plt.show()"
   ]
  },
  {
   "cell_type": "markdown",
   "metadata": {},
   "source": [
    "#### step 6: **statistical testing**"
   ]
  },
  {
   "cell_type": "code",
   "execution_count": 11,
   "metadata": {},
   "outputs": [],
   "source": [
    "# TODO: Write your conclusion in the Markdown box below"
   ]
  },
  {
   "cell_type": "markdown",
   "metadata": {},
   "source": [
    "Since the p-value is 1.0 and thus not less than 0.05, it means we do not have sufficient evidence to reject the null hypothesis."
   ]
  },
  {
   "cell_type": "markdown",
   "metadata": {},
   "source": [
    "#### optional step: **more data visualization**\n",
    "\n",
    "We can also visualize the confidence intervals of the samples."
   ]
  },
  {
   "cell_type": "code",
   "execution_count": null,
   "metadata": {},
   "outputs": [],
   "source": [
    "# first, declare the figure\n",
    "fig, ax = plt.subplots(1, 1, figsize=(16, 4), dpi=400)\n",
    "plt.tight_layout(pad=3.0)\n",
    "\n",
    "# next, plot with Seaborn\n",
    "sns.histplot(x=\"o3\", \n",
    "             data=ca_2011_2013, \n",
    "             label = \"O3 1st Max Value\",\n",
    "             ax=ax)\n",
    "\n",
    "# don't forget to set labels and titles\n",
    "ax.set_xlabel(\"Ozone 1st max value\")\n",
    "ax.set_ylabel(\"Frequency count\")\n",
    "ax.set_title(\"Distribution of Ozone in California, 2011-2013\", fontsize = 14)\n",
    "\n",
    "# additional labels\n",
    "threshold = 0.07\n",
    "ci_higher = ca_2011_2013.o3.quantile(0.95)\n",
    "ax.axvline(x=threshold, linewidth=2, color='r', label = \"threshold\")\n",
    "ax.axvline(x=ci_higher, linewidth=2, color='b', label = \"confidence interval\")\n",
    "plt.legend(loc=0)\n",
    "# save figure\n",
    "plt.savefig(\"figures/ci_and_h0.png\")"
   ]
  },
  {
   "cell_type": "markdown",
   "metadata": {},
   "source": [
    "#### **IMPORTANT NOTE**: \n",
    "There are several variations to the t-test, such as two-sample t-tests (student's t-test and Welch's t-test for unequal variance). The most important skill here for research is:\n",
    "1. Look at your data and formulate a research question.\n",
    "2. Decide the most appropriate statistical test to apply.\n",
    "\n",
    "If you ever have doubts, always ask! :)"
   ]
  },
  {
   "cell_type": "markdown",
   "metadata": {},
   "source": [
    "# Appendix 1. Visualization Recipe"
   ]
  },
  {
   "cell_type": "markdown",
   "metadata": {},
   "source": [
    "Below is a skeleton code for visualizing with Seaborn and Matplotlib, but this is NOT meant for you to follow the format stringently. \n",
    "```\n",
    "# skeleton code for plotting in python\n",
    "\n",
    "# first, declare the figure\n",
    "fig, ax = plt.subplots(n_row, n_col, figsize = (width, height), dpi = 400)\n",
    "\n",
    "# next, plot with Seaborn\n",
    "# note: change the ax=ax[i] argument if you have multiple subplots\n",
    "sns.histplot(x=iv, data=data, ax=ax)\n",
    "sns.lineplot(x=iv, y=dv, data=data, label=\"legend label\", ax=ax)\n",
    "sns.barplot(x=iv, y=dv, data=data, ax=ax)\n",
    "\n",
    "# don't forget to set labels and titles\n",
    "# similarly, change ax to ax[i] if you have multiple subplots\n",
    "ax.set_xlabel(\"your xlabel here\")\n",
    "ax.set_ylabel(\"your ylabel here\")\n",
    "ax.set_title(\"your title here\")\n",
    "\n",
    "# optional: add caption\n",
    "# similarly, change ax to ax[i] if you have multiple subplots\n",
    "caption = \"your caption here\"\n",
    "ax.text(x, y, caption, ha='center')\n",
    "\n",
    "# save figure\n",
    "plt.savefig(\"filename.png\")\n",
    "# if using Google colab:\n",
    "files.download(\"filename.png\")\n",
    "```"
   ]
  }
 ],
 "metadata": {
  "kernelspec": {
   "display_name": "barnard-cf",
   "language": "python",
   "name": "python3"
  },
  "language_info": {
   "codemirror_mode": {
    "name": "ipython",
    "version": 3
   },
   "file_extension": ".py",
   "mimetype": "text/x-python",
   "name": "python",
   "nbconvert_exporter": "python",
   "pygments_lexer": "ipython3",
   "version": "3.13.0"
  }
 },
 "nbformat": 4,
 "nbformat_minor": 2
}
