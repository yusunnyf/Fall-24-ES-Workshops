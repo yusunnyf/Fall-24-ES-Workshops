{
 "cells": [
  {
   "cell_type": "markdown",
   "metadata": {},
   "source": [
    "# Getting started with Python\n",
    "\n",
    "If using Google Colab, please go to `File` -> `Save a copy in Drive`\n",
    "\n",
    "**Date**: October 31st, 2024\n",
    "\n",
    "**Author**: Sunny Fang, yf2610\n",
    "\n",
    "_Created as part of the Barnard College Computing Fellows Program, Fall 2024_\n",
    "\n",
    "\n",
    "By the end of this workshop, students should...\n",
    "1. Feel comfortable with basic Python syntax\n",
    "2. Understand how to load and explore datasets\n",
    "3. Perform simple data analysis tasks relevant to their research"
   ]
  },
  {
   "cell_type": "markdown",
   "metadata": {},
   "source": [
    "# 0. Setup"
   ]
  },
  {
   "cell_type": "code",
   "execution_count": null,
   "metadata": {},
   "outputs": [],
   "source": [
    "%pip install pandas\n",
    "%pip install seaborn\n",
    "%pip install --upgrade matplotlib"
   ]
  },
  {
   "cell_type": "code",
   "execution_count": null,
   "metadata": {},
   "outputs": [],
   "source": [
    "# to process data\n",
    "import pandas as pd\n",
    "\n",
    "# to plot data\n",
    "import matplotlib as mpl\n",
    "import matplotlib.pyplot as plt\n",
    "import seaborn as sns\n",
    "\n",
    "sns.set_style('darkgrid')\n",
    "\n",
    "# for datetime processing\n",
    "from datetime import datetime"
   ]
  },
  {
   "cell_type": "markdown",
   "metadata": {},
   "source": [
    "# 1. Intro to Python syntax"
   ]
  },
  {
   "cell_type": "markdown",
   "metadata": {},
   "source": [
    "### Data types and print statements"
   ]
  },
  {
   "cell_type": "code",
   "execution_count": null,
   "metadata": {},
   "outputs": [],
   "source": [
    "# step 1: define the variables\n",
    "today_date = \"2024-10-31\" # you can also try: today_date = datetime.today().strftime('%Y-%m-%d')\n",
    "temperature = 68\n",
    "\n",
    "# step 2: format the string\n",
    "# try running the following: why doesn't this work?\n",
    "# sentence = \"Today is \" + today_date + \", and the temperature is \" + temperature + \"degrees\"\n",
    "\n",
    "# comment the above line out\n",
    "# let's check the data type of temperature\n",
    "type(temperature)"
   ]
  },
  {
   "cell_type": "code",
   "execution_count": null,
   "metadata": {},
   "outputs": [],
   "source": [
    "# step 2 continued\n",
    "# since temperature is an integer, we need to cast \"str\" type to concatenatethe string\n",
    "sentence = \"Today is \" + today_date + \", and the temperature is \" + str(temperature) + \" degrees\"\n",
    "\n",
    "# step 3: print!\n",
    "print(sentence)\n",
    "\n",
    "# alternatively, step 2 and 3 can be combined and rewritten as\n",
    "# print(\"Today is \" + today_date + \", and the temperature is \" + str(temperature) + \" degrees\")"
   ]
  },
  {
   "cell_type": "markdown",
   "metadata": {},
   "source": [
    "There are many ways to format a string, below are more examples:\n",
    "- `'Today is {}, and the temperature is {} degrees'.format(today_date, temperature)`\n",
    "- `f'Today is {today_date}, and the temperature is {temperature} degrees'`"
   ]
  },
  {
   "cell_type": "markdown",
   "metadata": {},
   "source": [
    "#### your turn! \n",
    "\n",
    "Print out your name, age, and birthday in the format of \n",
    "```My name is ___. I am __ years old, and my birthday is ___```"
   ]
  },
  {
   "cell_type": "code",
   "execution_count": null,
   "metadata": {},
   "outputs": [],
   "source": [
    "# TODO: your turn\n",
    "# print out your name, age, and birthday in the format of...\n",
    "# My name is ___. I am __ years old, and my birthday is ___\n",
    "# HINT: define variables: name, age, and birthday\n",
    "___\n",
    "___\n",
    "___\n",
    "\n",
    "# HINT: how should we format the sentence?\n",
    "# which variable should we cast the str type on?\n",
    "# alternatively, what are other ways we can format the string? (see above)\n",
    "print(___)"
   ]
  },
  {
   "cell_type": "markdown",
   "metadata": {},
   "source": [
    "### Lists"
   ]
  },
  {
   "cell_type": "code",
   "execution_count": null,
   "metadata": {},
   "outputs": [],
   "source": [
    "# let list1 be a list of numbers from 1 to 10\n",
    "list1 = list(range(1, 11)) # syntax: range(start, end+1)\n",
    "print(list1)\n",
    "\n",
    "# to index from a list, we specify the index\n",
    "first_item = list1[0]\n",
    "print(f\"The first item of list 1 is {first_item}\")\n",
    "\n",
    "# to find the length of the list, we use the len() function\n",
    "list1_length = len(list1)\n",
    "print(f\"The length of list 1 is {list1_length}\")\n",
    "\n",
    "# we can update a list simply by assigning a new value at an index\n",
    "list1[0] = 11\n",
    "print(f\"The updated list 1 is {list1}\")\n",
    "\n",
    "# we can add to a list two different ways\n",
    "list1 = list1 + [12, 13]\n",
    "print(f\"The updated list 1 is {list1}\")\n",
    "\n",
    "list1 += [14, 15]\n",
    "print(f\"The updated list 1 is {list1}\")"
   ]
  },
  {
   "cell_type": "markdown",
   "metadata": {},
   "source": [
    "### Operators"
   ]
  },
  {
   "cell_type": "code",
   "execution_count": null,
   "metadata": {},
   "outputs": [],
   "source": [
    "# Given x = 3, do the following operations and print the results\n",
    "x = 3\n",
    "\n",
    "# Arithmetic: \n",
    "# what is x + 2? Store the answer in the variable y\n",
    "y = x + 2\n",
    "print(y)\n",
    "\n",
    "# Assignment: \n",
    "# What is x * 5? Find the answer and store it in x \n",
    "# (no need to declare new variable)\n",
    "x *= 5\n",
    "print(x)\n",
    "\n",
    "# Comparison or Relational:\n",
    "# Is x bigger than 3?\n",
    "x_greater_than_3 = x > 3\n",
    "print(x_greater_than_3) # True of False?\n",
    "\n",
    "# Identity\n",
    "# Are x and y the same?\n",
    "x_equals_y =  x == y\n",
    "print(x_equals_y) # True or False?\n",
    "\n",
    "# Membership\n",
    "# Is x in list1?\n",
    "x_in_list1 = x in list1\n",
    "print(x_in_list1)\n",
    "\n",
    "# Logical\n",
    "# e.g., Is x equal to 8 and is y equal to 5? Store the result in condition1\n",
    "condition1 = (x == 8) and (y == 5)\n",
    "print(condition1)"
   ]
  },
  {
   "cell_type": "code",
   "execution_count": null,
   "metadata": {},
   "outputs": [],
   "source": [
    "# TODO: your turn\n",
    "# 1. Create a list called list2 from 4 to 20, with step size = 4\n",
    "# HINT: recall the syntax for range is range(start, end+1, step)\n",
    "# HINT: after creating the range() function, remember to cast the list() object\n",
    "list2 = ___\n",
    "\n",
    "# 2. Find the mean of the list using operators only\n",
    "# HINT: The code below stores the sum of list2 in \"temp\"\n",
    "# Your task is to divide it (/) by the length of the list\n",
    "list2_sum = 0\n",
    "for num in list2:\n",
    "    list2_sum += num\n",
    "list2_mean = ___\n",
    "print(list2_mean)"
   ]
  },
  {
   "cell_type": "markdown",
   "metadata": {},
   "source": [
    "# 2. Data Manipulation and Handling"
   ]
  },
  {
   "cell_type": "markdown",
   "metadata": {},
   "source": [
    "### Reading file"
   ]
  },
  {
   "cell_type": "markdown",
   "metadata": {},
   "source": [
    "Today, we are using an air pollution dataset from [Kaggle](https://www.kaggle.com/datasets/sogun3/uspollution/data). \n",
    "\n",
    "You can read the file with the following link: `https://drive.google.com/uc?id=1FNWe_pjSONfixgQHPz6o28tpg34Hiwvj`\n",
    "\n",
    "**IMPORTANT NOTE:** usually files end with .csv, but since we are reading a file from a Google Drive link, it looks a bit different here"
   ]
  },
  {
   "cell_type": "code",
   "execution_count": null,
   "metadata": {},
   "outputs": [],
   "source": [
    "# TODO: your turn\n",
    "# copy and paste the link provided above to the blank\n",
    "df = pd.read_csv(\"___\")\n",
    "df.head(5)"
   ]
  },
  {
   "cell_type": "markdown",
   "metadata": {},
   "source": [
    "It seems like some columns are hidden. We can change this by altering the settings in pandas."
   ]
  },
  {
   "cell_type": "code",
   "execution_count": null,
   "metadata": {},
   "outputs": [],
   "source": [
    "# remove max column restriction\n",
    "pd.set_option(\"display.max_columns\", None)\n",
    "\n",
    "# display again to see difference, what do you expect?\n",
    "df.head(5)"
   ]
  },
  {
   "cell_type": "markdown",
   "metadata": {},
   "source": [
    "### Understanding Dataset"
   ]
  },
  {
   "cell_type": "code",
   "execution_count": null,
   "metadata": {},
   "outputs": [],
   "source": [
    "# now, we want to know some basic information of the dataset\n",
    "# first, print out the shape\n",
    "print(df.shape) # -> rows, columns\n",
    "print(f\"The dataset has {df.shape[0]} rows and {df.shape[1]} columns\")\n",
    "\n",
    "# next, print out information\n",
    "# this allows you to see the column names, datatype, and memory usage (not important for our purpose) of our dataset\n",
    "print(df.info())"
   ]
  },
  {
   "cell_type": "markdown",
   "metadata": {},
   "source": [
    "### Data Slicing"
   ]
  },
  {
   "cell_type": "code",
   "execution_count": null,
   "metadata": {},
   "outputs": [],
   "source": [
    "# subset rows with index 0 to 4\n",
    "df.loc[0:4]"
   ]
  },
  {
   "cell_type": "code",
   "execution_count": null,
   "metadata": {},
   "outputs": [],
   "source": [
    "# subset column \"County\"\n",
    "df.loc[:,\"County\"]"
   ]
  },
  {
   "cell_type": "code",
   "execution_count": null,
   "metadata": {},
   "outputs": [],
   "source": [
    "# subset by both\n",
    "df.loc[0:4,\"County\"]"
   ]
  },
  {
   "cell_type": "code",
   "execution_count": null,
   "metadata": {},
   "outputs": [],
   "source": [
    "# subset by multiple columns\n",
    "df.loc[:,[\"County\",\"Date Local\"]]\n",
    "# identical to df[[\"County\",\"Date Local\"]]"
   ]
  },
  {
   "cell_type": "markdown",
   "metadata": {},
   "source": [
    "### Boolean Masking"
   ]
  },
  {
   "cell_type": "markdown",
   "metadata": {},
   "source": [
    "1. Subset by NO2 Mean > 20"
   ]
  },
  {
   "cell_type": "code",
   "execution_count": null,
   "metadata": {},
   "outputs": [],
   "source": [
    "df[df.loc[:,\"NO2 Mean\"] > 20]\n",
    "# identical to df[df[\"NO2 Mean\"] > 20]"
   ]
  },
  {
   "cell_type": "markdown",
   "metadata": {},
   "source": [
    "Subsetting data: let's say we are only interested in keeping the following:\n",
    "- City, Date Local, NO2 AQI, O3 AQI, CO AQI, SO2 AQI, and County\n",
    "- in New York, and\n",
    "- after 2010."
   ]
  },
  {
   "cell_type": "code",
   "execution_count": null,
   "metadata": {},
   "outputs": [],
   "source": [
    "# Before subsetting, it might be useful to see the values in the columns we are interested in\n",
    "print(df[\"Date Local\"].value_counts())\n",
    "print(df[\"City\"].value_counts())"
   ]
  },
  {
   "cell_type": "code",
   "execution_count": null,
   "metadata": {},
   "outputs": [],
   "source": [
    "# TODO: Subset data based on New York\n",
    "# step 1: create a temporary dataframe with the columns we are interested in\n",
    "# which are City, Date Local, NO2 AQI, O3 AQI, CO AQI, SO2 AQI, and County\n",
    "# HINT: we are selecting by *columns*, so we can use df.loc[:, col_names]\n",
    "# HINT: col_names = ['City', 'Date Local', 'NO2 AQI', 'O3 AQI', 'CO AQI', 'SO2 AQI', County]\n",
    "nyc = \n",
    "display(nyc)"
   ]
  },
  {
   "cell_type": "code",
   "execution_count": null,
   "metadata": {},
   "outputs": [],
   "source": [
    "# 2. Next, we can filter by NYC\n",
    "# HINT: Which column contains \"New York\"?\n",
    "nyc = nyc[nyc[\"___\"] == \"___\"]\n",
    "display(nyc)"
   ]
  },
  {
   "cell_type": "code",
   "execution_count": null,
   "metadata": {},
   "outputs": [],
   "source": [
    "# 3. Lastly, trim to keep everything after 2010 (i.e., start on 2011-01-01)\n",
    "# HINT: Which column contains date?\n",
    "# HINT: What is the last day of 2010?\n",
    "nyc = nyc[nyc[\"___\"] > \"___\"]\n",
    "display(nyc)"
   ]
  },
  {
   "cell_type": "code",
   "execution_count": null,
   "metadata": {},
   "outputs": [],
   "source": [
    "# Alternatively, we can also have multiple conditions at once\n",
    "nyc = nyc[(nyc[\"City\"] == \"New York\") & (nyc[\"Date Local\"] > \"2010-12-31\")] \n",
    "display(nyc)"
   ]
  },
  {
   "cell_type": "code",
   "execution_count": 22,
   "metadata": {},
   "outputs": [],
   "source": [
    "# if using Google colab, uncomment:\n",
    "# from google.colab import files\n",
    "\n",
    "# TODO: name the updated file\n",
    "nyc.to_csv('___') \n",
    "\n",
    "# if using Google colab, uncomment:\n",
    "# NOTE: the filename should be the same name as nyc.to_csv('filename')\n",
    "# files.download('filename.csv')"
   ]
  },
  {
   "cell_type": "markdown",
   "metadata": {},
   "source": [
    "# 3. Exploratory Data Analysis (EDA)"
   ]
  },
  {
   "cell_type": "code",
   "execution_count": null,
   "metadata": {},
   "outputs": [],
   "source": [
    "# depending on your task, it is generally a good idea to drop NULL values\n",
    "# inplace means the dataframe is updated\n",
    "nyc.dropna(inplace=True)"
   ]
  },
  {
   "cell_type": "markdown",
   "metadata": {},
   "source": [
    "### Numeric Data Analysis"
   ]
  },
  {
   "cell_type": "code",
   "execution_count": null,
   "metadata": {},
   "outputs": [],
   "source": [
    "# use df.describe() to get an overview of the entire dataset\n",
    "nyc.describe()"
   ]
  },
  {
   "cell_type": "code",
   "execution_count": null,
   "metadata": {},
   "outputs": [],
   "source": [
    "# create a pairplot to gauge the relationship between variables\n",
    "sns.pairplot(nyc)"
   ]
  },
  {
   "cell_type": "markdown",
   "metadata": {},
   "source": [
    "Let's change the DPI (Dots per Inch) of the figure. What did you notice?"
   ]
  },
  {
   "cell_type": "code",
   "execution_count": null,
   "metadata": {},
   "outputs": [],
   "source": [
    "# dpi makes all the difference...\n",
    "# what did you notice?\n",
    "mpl.rcParams['figure.dpi'] = 300\n",
    "\n",
    "# create a pairplot to gauge the relationship between variables\n",
    "sns.pairplot(nyc)\n",
    "\n",
    "# TODO: rename (e.g., pairplot.png)\n",
    "# save figure\n",
    "plt.savefig(\"filename.png\")\n",
    "# if using Google colab, uncomment:\n",
    "# files.download('filename.png')"
   ]
  },
  {
   "cell_type": "markdown",
   "metadata": {},
   "source": [
    "Let's say we want to know the distribution of NO2 AQI by County."
   ]
  },
  {
   "cell_type": "code",
   "execution_count": null,
   "metadata": {},
   "outputs": [],
   "source": [
    "# declare a figure object\n",
    "fig, ax = plt.subplots(1, 1, figsize=(10,4), dpi = 200)\n",
    "\n",
    "# plot with Seaborn\n",
    "sns.boxplot(x=\"NO2 AQI\", y = \"County\", data=nyc)\n",
    "\n",
    "# set title for the plot\n",
    "ax.set_title(\"NO2 AQI By County\")\n",
    "\n",
    "# TODO: rename (e.g., boxplot_by_county.png)\n",
    "# save figure\n",
    "plt.savefig(\"filename.png\")\n",
    "# if using Google colab, uncomment:\n",
    "# files.download('filename.png')"
   ]
  },
  {
   "cell_type": "markdown",
   "metadata": {},
   "source": [
    "Now, let's say we want to know the distribution of NO2 in general."
   ]
  },
  {
   "cell_type": "code",
   "execution_count": null,
   "metadata": {},
   "outputs": [],
   "source": [
    "# TODO: plot the distribution of NO2\n",
    "# HINT: declare a figure object using plt.subplots()\n",
    "# HINT: the syntax: plt.subplots(nrow, ncol, figsize=(w,h))\n",
    "fig, ax = ___\n",
    "\n",
    "# plot with Seaborn\n",
    "# HINT: what plot shows distribution? \n",
    "sns.___(x=___, data=nyc)\n",
    "\n",
    "# set labels\n",
    "ax.set_xlabel('NO2 AQI')\n",
    "ax.set_ylabel('Count')\n",
    "ax.set_title('_____')\n",
    "\n",
    "# we can add lines to tell stories\n",
    "ax.axvline(x=100, linewidth=3, color='r', label = \"EPA Standard\")\n",
    "ax.legend(loc=0, fontsize=12)\n",
    "\n",
    "# we can also add annotations!\n",
    "ax.axvline(x=nyc[\"NO2 AQI\"].mean(), linewidth=3, color='b')\n",
    "ax.text(x=nyc[\"NO2 AQI\"].mean() + 1, y=210, s=\"Mean NO2 AQI\", fontsize=12)\n",
    "\n",
    "# TODO: rename file (e.g. no2_distribution.png)\n",
    "# save figure\n",
    "plt.savefig(\"no2_distribution.png\")\n",
    "# if using Google colab, uncomment:\n",
    "# files.download('filename.png')"
   ]
  },
  {
   "cell_type": "markdown",
   "metadata": {},
   "source": [
    "### Your turn to try!\n",
    "What are you interested in knowing?"
   ]
  },
  {
   "cell_type": "code",
   "execution_count": null,
   "metadata": {},
   "outputs": [],
   "source": [
    "# e.g., does Ozone level change over the years?\n",
    "\n",
    "# step 1: declare figure using plt.subplots\n",
    "fig, ax = ____\n",
    "\n",
    "# step 2: plot with seaborn\n",
    "sns.__\n",
    "\n",
    "# step 3: set labels, titles, add other elements (e.g., text)\n",
    "ax.set_xlabel('_')\n",
    "ax.set_ylabel('_')\n",
    "ax.set_title('_')\n",
    "\n",
    "# step 4: save figure\n",
    "plt.savefig(\"filename.png\")"
   ]
  },
  {
   "cell_type": "markdown",
   "metadata": {},
   "source": [
    "### Challenge Problem (Optional)"
   ]
  },
  {
   "cell_type": "code",
   "execution_count": null,
   "metadata": {},
   "outputs": [],
   "source": [
    "# we want to understand how NO2 changes overtime in 2011\n",
    "# (suboptimal) example\n",
    "nyc_2011 = nyc[nyc['Date Local'] <= '2011-12-31']\n",
    "fig, ax = plt.subplots(1, 1, figsize=(16,9))\n",
    "sns.lineplot(x = 'Date Local', \n",
    "            y = 'NO2 AQI', \n",
    "            data = nyc_2011, \n",
    "            ax = ax) "
   ]
  },
  {
   "cell_type": "markdown",
   "metadata": {},
   "source": [
    "What is not great about the visualization above? "
   ]
  },
  {
   "cell_type": "code",
   "execution_count": null,
   "metadata": {},
   "outputs": [],
   "source": [
    "# declare figure\n",
    "fig, ax = plt.subplots(1, 1, figsize=(10,4), dpi = 200)\n",
    "\n",
    "# line plot\n",
    "sns.lineplot(x = 'Date Local', \n",
    "            y = 'NO2 AQI', \n",
    "            data = nyc_2011, \n",
    "            label = \"NO2 AQI\",\n",
    "            ax = ax) \n",
    "\n",
    "pos = ['2011-01-01', '2011-02-01', '2011-03-01', '2011-04-01',  \n",
    "       '2011-05-01', '2011-06-01', '2011-07-01', '2011-08-01', \n",
    "       '2011-09-01', '2011-10-01', '2011-11-01', '2011-12-01'] \n",
    "  \n",
    "lab = [ 'Jan', 'Feb', 'Mar', 'Apr', 'May', 'June',  \n",
    "       'July', 'Aug', 'Sept', 'Oct', 'Nov', 'Dec'] \n",
    "\n",
    "# rename x-ticks\n",
    "plt.xticks(pos, lab) \n",
    "plt.title(\"NO2 AQI By Month in 2011\")"
   ]
  },
  {
   "cell_type": "code",
   "execution_count": null,
   "metadata": {},
   "outputs": [],
   "source": [
    "nyc_2011['rolling_avg'] = nyc_2011['NO2 AQI'].rolling(30).mean() \n",
    "# declare figure\n",
    "fig, ax = plt.subplots(1, 1, figsize=(10,4), dpi = 200)\n",
    "\n",
    "# line plot\n",
    "sns.lineplot(x = 'Date Local', \n",
    "            y = 'NO2 AQI', \n",
    "            data = nyc_2011, \n",
    "            label = \"NO2 AQI\",\n",
    "            ax = ax) \n",
    "\n",
    "# line plot w/ rolling\n",
    "sns.lineplot(x = 'Date Local', \n",
    "            y = 'rolling_avg', \n",
    "            data = nyc_2011, \n",
    "            label = \"monthly avg\",\n",
    "            ax = ax) \n",
    "\n",
    "# rename x-ticks\n",
    "pos = ['2011-01-01', '2011-02-01', '2011-03-01', '2011-04-01',  \n",
    "       '2011-05-01', '2011-06-01', '2011-07-01', '2011-08-01', \n",
    "       '2011-09-01', '2011-10-01', '2011-11-01', '2011-12-01'] \n",
    "  \n",
    "lab = [ 'Jan', 'Feb', 'Mar', 'Apr', 'May', 'June',  \n",
    "       'July', 'Aug', 'Sept', 'Oct', 'Nov', 'Dec']\n",
    "  \n",
    "plt.xticks(pos, lab) \n",
    "\n",
    "# set title\n",
    "plt.title(\"NO2 AQI By Month in 2011\")\n",
    "\n",
    "# save figure\n",
    "plt.savefig(\"EDA-results/no2_time_series_2011.png\")\n",
    "# if using Google colab, uncomment:\n",
    "# files.download('filename.png')"
   ]
  }
 ],
 "metadata": {
  "kernelspec": {
   "display_name": "llms",
   "language": "python",
   "name": "python3"
  },
  "language_info": {
   "codemirror_mode": {
    "name": "ipython",
    "version": 3
   },
   "file_extension": ".py",
   "mimetype": "text/x-python",
   "name": "python",
   "nbconvert_exporter": "python",
   "pygments_lexer": "ipython3",
   "version": "3.13.0"
  }
 },
 "nbformat": 4,
 "nbformat_minor": 2
}
